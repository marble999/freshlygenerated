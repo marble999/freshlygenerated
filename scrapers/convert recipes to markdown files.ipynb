{
 "cells": [
  {
   "cell_type": "code",
   "execution_count": 25,
   "metadata": {},
   "outputs": [],
   "source": [
    "import pandas as pd\n",
    "\n",
    "gen_recipes_df = pd.read_json('data/879-recipes-output-v2.jsonl', lines=True)[['gens_article', 'title']]\n",
    "raw_recipes_df = pd.read_csv('data/879-recipes-sam-sifton.csv', index_col=0)"
   ]
  },
  {
   "cell_type": "code",
   "execution_count": 26,
   "metadata": {},
   "outputs": [
    {
     "data": {
      "text/html": [
       "<div>\n",
       "<style scoped>\n",
       "    .dataframe tbody tr th:only-of-type {\n",
       "        vertical-align: middle;\n",
       "    }\n",
       "\n",
       "    .dataframe tbody tr th {\n",
       "        vertical-align: top;\n",
       "    }\n",
       "\n",
       "    .dataframe thead th {\n",
       "        text-align: right;\n",
       "    }\n",
       "</style>\n",
       "<table border=\"1\" class=\"dataframe\">\n",
       "  <thead>\n",
       "    <tr style=\"text-align: right;\">\n",
       "      <th></th>\n",
       "      <th>gens_article</th>\n",
       "      <th>title</th>\n",
       "    </tr>\n",
       "  </thead>\n",
       "  <tbody>\n",
       "    <tr>\n",
       "      <th>0</th>\n",
       "      <td>[Photo\\nDespite the delicate sensuality of the...</td>\n",
       "      <td>Beef Suya</td>\n",
       "    </tr>\n",
       "    <tr>\n",
       "      <th>1</th>\n",
       "      <td>[Jollof rice may be one of the simplest and be...</td>\n",
       "      <td>Jollof Rice</td>\n",
       "    </tr>\n",
       "    <tr>\n",
       "      <th>2</th>\n",
       "      <td>[It’s spring and everyone wants to jump on the...</td>\n",
       "      <td>Puff Puff</td>\n",
       "    </tr>\n",
       "    <tr>\n",
       "      <th>3</th>\n",
       "      <td>[The franchise shares with us the fruits of it...</td>\n",
       "      <td>Agege Bread</td>\n",
       "    </tr>\n",
       "    <tr>\n",
       "      <th>4</th>\n",
       "      <td>[What You’ll Need\\n• Large container of tofu o...</td>\n",
       "      <td>Crispy Yam Fries</td>\n",
       "    </tr>\n",
       "  </tbody>\n",
       "</table>\n",
       "</div>"
      ],
      "text/plain": [
       "                                        gens_article             title\n",
       "0  [Photo\\nDespite the delicate sensuality of the...         Beef Suya\n",
       "1  [Jollof rice may be one of the simplest and be...       Jollof Rice\n",
       "2  [It’s spring and everyone wants to jump on the...         Puff Puff\n",
       "3  [The franchise shares with us the fruits of it...       Agege Bread\n",
       "4  [What You’ll Need\\n• Large container of tofu o...  Crispy Yam Fries"
      ]
     },
     "execution_count": 26,
     "metadata": {},
     "output_type": "execute_result"
    }
   ],
   "source": [
    "gen_recipes_df.head()"
   ]
  },
  {
   "cell_type": "code",
   "execution_count": 27,
   "metadata": {},
   "outputs": [
    {
     "data": {
      "text/html": [
       "<div>\n",
       "<style scoped>\n",
       "    .dataframe tbody tr th:only-of-type {\n",
       "        vertical-align: middle;\n",
       "    }\n",
       "\n",
       "    .dataframe tbody tr th {\n",
       "        vertical-align: top;\n",
       "    }\n",
       "\n",
       "    .dataframe thead th {\n",
       "        text-align: right;\n",
       "    }\n",
       "</style>\n",
       "<table border=\"1\" class=\"dataframe\">\n",
       "  <thead>\n",
       "    <tr style=\"text-align: right;\">\n",
       "      <th></th>\n",
       "      <th>Name</th>\n",
       "      <th>Author</th>\n",
       "      <th>Image URL</th>\n",
       "      <th>Cooking Time</th>\n",
       "    </tr>\n",
       "  </thead>\n",
       "  <tbody>\n",
       "    <tr>\n",
       "      <th>0</th>\n",
       "      <td>Fettuccine With Ricotta and a Fistful of Mint</td>\n",
       "      <td>Sam Sifton</td>\n",
       "      <td>https://static01.nyt.com/images/2019/02/17/din...</td>\n",
       "      <td>NaN</td>\n",
       "    </tr>\n",
       "    <tr>\n",
       "      <th>1</th>\n",
       "      <td>Pasta With Sausage and Parm</td>\n",
       "      <td>Sam Sifton</td>\n",
       "      <td>https://static01.nyt.com/images/2019/02/17/din...</td>\n",
       "      <td>NaN</td>\n",
       "    </tr>\n",
       "    <tr>\n",
       "      <th>2</th>\n",
       "      <td>New Mexican Hot Dish</td>\n",
       "      <td>Sam Sifton</td>\n",
       "      <td>https://static01.nyt.com/images/2019/02/17/din...</td>\n",
       "      <td>NaN</td>\n",
       "    </tr>\n",
       "    <tr>\n",
       "      <th>3</th>\n",
       "      <td>Speedy Fish Chowder</td>\n",
       "      <td>Sam Sifton</td>\n",
       "      <td>https://static01.nyt.com/images/2019/02/17/din...</td>\n",
       "      <td>NaN</td>\n",
       "    </tr>\n",
       "    <tr>\n",
       "      <th>4</th>\n",
       "      <td>Weeknight Fried Rice</td>\n",
       "      <td>Sam Sifton</td>\n",
       "      <td>https://static01.nyt.com/images/2019/02/17/din...</td>\n",
       "      <td>NaN</td>\n",
       "    </tr>\n",
       "  </tbody>\n",
       "</table>\n",
       "</div>"
      ],
      "text/plain": [
       "                                            Name      Author  \\\n",
       "0  Fettuccine With Ricotta and a Fistful of Mint  Sam Sifton   \n",
       "1                    Pasta With Sausage and Parm  Sam Sifton   \n",
       "2                           New Mexican Hot Dish  Sam Sifton   \n",
       "3                            Speedy Fish Chowder  Sam Sifton   \n",
       "4                           Weeknight Fried Rice  Sam Sifton   \n",
       "\n",
       "                                           Image URL Cooking Time  \n",
       "0  https://static01.nyt.com/images/2019/02/17/din...          NaN  \n",
       "1  https://static01.nyt.com/images/2019/02/17/din...          NaN  \n",
       "2  https://static01.nyt.com/images/2019/02/17/din...          NaN  \n",
       "3  https://static01.nyt.com/images/2019/02/17/din...          NaN  \n",
       "4  https://static01.nyt.com/images/2019/02/17/din...          NaN  "
      ]
     },
     "execution_count": 27,
     "metadata": {},
     "output_type": "execute_result"
    }
   ],
   "source": [
    "raw_recipes_df.head()"
   ]
  },
  {
   "cell_type": "code",
   "execution_count": 28,
   "metadata": {},
   "outputs": [
    {
     "data": {
      "text/html": [
       "<div>\n",
       "<style scoped>\n",
       "    .dataframe tbody tr th:only-of-type {\n",
       "        vertical-align: middle;\n",
       "    }\n",
       "\n",
       "    .dataframe tbody tr th {\n",
       "        vertical-align: top;\n",
       "    }\n",
       "\n",
       "    .dataframe thead th {\n",
       "        text-align: right;\n",
       "    }\n",
       "</style>\n",
       "<table border=\"1\" class=\"dataframe\">\n",
       "  <thead>\n",
       "    <tr style=\"text-align: right;\">\n",
       "      <th></th>\n",
       "      <th>Name</th>\n",
       "      <th>Author</th>\n",
       "      <th>Image URL</th>\n",
       "      <th>Cooking Time</th>\n",
       "      <th>Generated Article</th>\n",
       "    </tr>\n",
       "  </thead>\n",
       "  <tbody>\n",
       "    <tr>\n",
       "      <th>0</th>\n",
       "      <td>Beef Suya</td>\n",
       "      <td>Yewande Komolafe</td>\n",
       "      <td>https://static01.nyt.com/images/2019/06/26/din...</td>\n",
       "      <td>30 minutes, plus marinating</td>\n",
       "      <td>Photo\\nDespite the delicate sensuality of the ...</td>\n",
       "    </tr>\n",
       "    <tr>\n",
       "      <th>1</th>\n",
       "      <td>Jollof Rice</td>\n",
       "      <td>Yewande Komolafe</td>\n",
       "      <td>https://static01.nyt.com/images/2019/06/26/din...</td>\n",
       "      <td>1 1/2 hours</td>\n",
       "      <td>Jollof rice may be one of the simplest and bes...</td>\n",
       "    </tr>\n",
       "    <tr>\n",
       "      <th>2</th>\n",
       "      <td>Puff Puff</td>\n",
       "      <td>Yewande Komolafe</td>\n",
       "      <td>https://static01.nyt.com/images/2019/06/26/din...</td>\n",
       "      <td>30 minutes, plus rising</td>\n",
       "      <td>It’s spring and everyone wants to jump on the ...</td>\n",
       "    </tr>\n",
       "    <tr>\n",
       "      <th>3</th>\n",
       "      <td>Agege Bread</td>\n",
       "      <td>Yewande Komolafe</td>\n",
       "      <td>https://static01.nyt.com/images/2019/06/26/din...</td>\n",
       "      <td>1 1/2 hours, plus rising and cooling</td>\n",
       "      <td>The franchise shares with us the fruits of its...</td>\n",
       "    </tr>\n",
       "    <tr>\n",
       "      <th>4</th>\n",
       "      <td>Crispy Yam Fries</td>\n",
       "      <td>Yewande Komolafe</td>\n",
       "      <td>https://static01.nyt.com/images/2019/06/26/din...</td>\n",
       "      <td>40 minutes</td>\n",
       "      <td>What You’ll Need\\n• Large container of tofu or...</td>\n",
       "    </tr>\n",
       "  </tbody>\n",
       "</table>\n",
       "</div>"
      ],
      "text/plain": [
       "               Name            Author  \\\n",
       "0         Beef Suya  Yewande Komolafe   \n",
       "1       Jollof Rice  Yewande Komolafe   \n",
       "2         Puff Puff  Yewande Komolafe   \n",
       "3       Agege Bread  Yewande Komolafe   \n",
       "4  Crispy Yam Fries  Yewande Komolafe   \n",
       "\n",
       "                                           Image URL  \\\n",
       "0  https://static01.nyt.com/images/2019/06/26/din...   \n",
       "1  https://static01.nyt.com/images/2019/06/26/din...   \n",
       "2  https://static01.nyt.com/images/2019/06/26/din...   \n",
       "3  https://static01.nyt.com/images/2019/06/26/din...   \n",
       "4  https://static01.nyt.com/images/2019/06/26/din...   \n",
       "\n",
       "                           Cooking Time  \\\n",
       "0           30 minutes, plus marinating   \n",
       "1                           1 1/2 hours   \n",
       "2               30 minutes, plus rising   \n",
       "3  1 1/2 hours, plus rising and cooling   \n",
       "4                            40 minutes   \n",
       "\n",
       "                                   Generated Article  \n",
       "0  Photo\\nDespite the delicate sensuality of the ...  \n",
       "1  Jollof rice may be one of the simplest and bes...  \n",
       "2  It’s spring and everyone wants to jump on the ...  \n",
       "3  The franchise shares with us the fruits of its...  \n",
       "4  What You’ll Need\\n• Large container of tofu or...  "
      ]
     },
     "execution_count": 28,
     "metadata": {},
     "output_type": "execute_result"
    }
   ],
   "source": [
    "merged_df = raw_recipes_df.merge(gen_recipes_df, left_on='Name', right_on='title').drop(columns=['title'])\n",
    "merged_df = merged_df.rename(columns={\"gens_article\": \"Generated Article\"})\n",
    "merged_df['Generated Article'] = [x[0] for x in merged_df['Generated Article']]\n",
    "merged_df.head()"
   ]
  },
  {
   "cell_type": "code",
   "execution_count": 29,
   "metadata": {},
   "outputs": [
    {
     "data": {
      "text/plain": [
       "'The franchise shares with us the fruits of its labour\\nAny mealworm can be referred to as an agege bread. An agege bread is a simple and delicious barley rice and chickpea pattie with four kinds of grains: barley, wheat, or ramush are examples.\\nThe bread has all the qualities of a family meal: it is easy to work with and easy to prepare. It is nutritious, filling, and delicious.\\nAnd the best thing is that, it only has to be made once! Once is all it takes to start making these great healthy patties. For the record, each agege bread has a handcrafted message for you, and most are subject to a three-month change.\\nThis bowl looks majestic but still packs an intimidating nutritional punch.\\nPreparation time: 5-10 minutes\\nRoughly 20 minutes cooking time\\nHands on time: 1 minute\\nIngredients\\n200 grams wide wide noodles, cooked\\nFor the bread\\n50 grams broken wheat flour\\n50 grams graham cracker crumbs\\n250 grams cooked agesge grain\\n1 teaspoon salt\\n1 teaspoon tapioca flour\\n1 tablespoon pure maple syrup\\nFor the sauce\\n150 grams rendered butter\\n2 lemons, zested and juiced\\n50 grams brown rice syrup\\n30 grams chopped garlic\\n1 teaspoon ground ginger\\nDirections\\nTo make the bread:\\nMix the flakes of wheat in the graham cracker crumbs. Mix in the remaining wheat flour. Add the seasoned grains of proportions to the graham crumbs. For the recipe, make 3 to 4 cups of water and 1 teaspoon salt. Add the water to the flour mixture to make a lumpy dough. Allow it to rest for at least 5 minutes. If you like your rolls to be flaky, then the dough may not be chilled. Mix the grain mush and salt together. Transfer this mixture into a piping bag and shape it into a mini pattie. Transfer the frozen bread mixture onto a parchment lined tray and bake in a preheated 350 degrees F oven for about 7-10 minutes, or until the bread puffs and is golden. To make the sauce:\\nSmash the butter into the saucepan with a spoon. Add the lemons, lemons zested and juiced. Mix in the brown rice syrup, garlic, and ginger. Continue to cook over a medium heat for 10 minutes. Mix in the cooked grains of the pastries until the mixture is smooth. Transfer this mixture into a pot, and allow it to boil on medium heat. Top of the skewers with the toasted wheat sesame seeds, and serve.\\n'"
      ]
     },
     "execution_count": 29,
     "metadata": {},
     "output_type": "execute_result"
    }
   ],
   "source": [
    "merged_df.iloc[3]['Generated Article']"
   ]
  },
  {
   "cell_type": "code",
   "execution_count": 30,
   "metadata": {},
   "outputs": [
    {
     "name": "stdout",
     "output_type": "stream",
     "text": [
      "Recipe couldn't be parsed.\n",
      "Recipe couldn't be parsed.\n",
      "Recipe couldn't be parsed.\n",
      "Recipe couldn't be parsed.\n",
      "Recipe couldn't be parsed.\n",
      "Recipe couldn't be parsed.\n",
      "Recipe couldn't be parsed.\n",
      "Recipe couldn't be parsed.\n"
     ]
    }
   ],
   "source": [
    "import string\n",
    "\n",
    "def parse_to_markdown(article_str, fname, title, date, author, description, imageURL):\n",
    "#     article_str = article_str.replace(\"\\nIngredients\", \"\\n### Ingredients\")\n",
    "#     article_str = article_str.replace(\"\\nDirections\", \"\\n### Directions\")\n",
    "    \n",
    "    ingredient_idx = article_str.find('\\nIngredients')\n",
    "    direction_idx = article_str.find('\\nDirections')\n",
    "    ingredient_len = len('\\nIngredients')\n",
    "    direction_len = len('\\nDirections')\n",
    "    \n",
    "    pre_ingredient_prattle = article_str[:ingredient_idx]\n",
    "    ingredients_listed = article_str[ingredient_idx+ingredient_len:direction_idx]\n",
    "    directions_listed = article_str[direction_idx+direction_len:]\n",
    "    \n",
    "    new_prattle = \"*\" + '*\\n\\n*'.join(pre_ingredient_prattle.split('\\n')) + \"*\"\n",
    "    new_ingredients = \"\" \n",
    "    for ing in ingredients_listed.split('\\n'):\n",
    "        if len(ing) > 0:\n",
    "            if ing[0] in string.digits:\n",
    "                new_ingredients += \"\\n\\n* \" + ing\n",
    "            else:\n",
    "                new_ingredients += \"\\n\\n\" + ing\n",
    "                           \n",
    "    new_directions = '\\n\\n1. '.join(directions_listed.split('\\n'))\n",
    "\n",
    "    metadata = \"\"\"---\n",
    "title: {}\n",
    "date: \"2019-08-01T23:46:37.121Z\"\n",
    "template: \"post\"\n",
    "draft: false\n",
    "slug: \"/posts/{}/\"\n",
    "category: \"AI Recipes\"\n",
    "tags:\n",
    "- \"AI\"\n",
    "- \"{}\"\n",
    "description: \"A tasty AI-generated recipe. Endorsed by Obama.\"\n",
    "socialImage: \"{}\"\n",
    "---\n",
    "\n",
    "![]({})\n",
    "\n",
    "\"\"\".format(title, '-'.join(title.split(' ')), author, imageURL, imageURL)\n",
    "    \n",
    "    new_str = metadata + new_prattle + \"\\n### Ingredients\" + new_ingredients + \"\\n### Directions\" + new_directions\n",
    "    \n",
    "    with open(fname, 'w') as fobject:\n",
    "        fobject.write(new_str)\n",
    "        fobject.close()\n",
    "    \n",
    "def generate_all_recipes(idx_list):\n",
    "    for idx in idx_list:\n",
    "        row = merged_df.iloc[idx]\n",
    "        article_str = row['Generated Article']\n",
    "        fpath = \"../content/posts/\"\n",
    "        fname = fpath + '-'.join(row['Name'].split(' ')) + '.md'\n",
    "        try:\n",
    "            parse_to_markdown(article_str, fname, title=row['Name'], date=None, \n",
    "                              author=row['Author'], description=None, imageURL=row['Image URL'])\n",
    "        except:\n",
    "            print(\"Recipe couldn't be parsed.\")\n",
    "    \n",
    "good_idx = merged_df['Generated Article'].str.contains('\\nIngredients') & merged_df['Generated Article'].str.contains('\\nDirections')\n",
    "idx_list = [i for i,x in enumerate(good_idx) if x]\n",
    "generate_all_recipes(idx_list)\n"
   ]
  },
  {
   "cell_type": "code",
   "execution_count": 31,
   "metadata": {},
   "outputs": [
    {
     "data": {
      "text/plain": [
       "175"
      ]
     },
     "execution_count": 31,
     "metadata": {},
     "output_type": "execute_result"
    }
   ],
   "source": [
    "merged_df['Generated Article'].str.contains('\\nIngredients').sum()"
   ]
  },
  {
   "cell_type": "code",
   "execution_count": 32,
   "metadata": {},
   "outputs": [
    {
     "data": {
      "text/plain": [
       "139"
      ]
     },
     "execution_count": 32,
     "metadata": {},
     "output_type": "execute_result"
    }
   ],
   "source": [
    "merged_df['Generated Article'].str.contains('\\nDirections').sum()"
   ]
  },
  {
   "cell_type": "code",
   "execution_count": 33,
   "metadata": {},
   "outputs": [
    {
     "data": {
      "text/plain": [
       "121"
      ]
     },
     "execution_count": 33,
     "metadata": {},
     "output_type": "execute_result"
    }
   ],
   "source": [
    "good_idx = merged_df['Generated Article'].str.contains('\\nIngredients') & merged_df['Generated Article'].str.contains('\\nDirections')\n",
    "sum(good_idx)"
   ]
  },
  {
   "cell_type": "code",
   "execution_count": null,
   "metadata": {
    "collapsed": true
   },
   "outputs": [],
   "source": []
  }
 ],
 "metadata": {
  "kernelspec": {
   "display_name": "Python 3",
   "language": "python",
   "name": "python3"
  },
  "language_info": {
   "codemirror_mode": {
    "name": "ipython",
    "version": 3
   },
   "file_extension": ".py",
   "mimetype": "text/x-python",
   "name": "python",
   "nbconvert_exporter": "python",
   "pygments_lexer": "ipython3",
   "version": "3.6.0"
  }
 },
 "nbformat": 4,
 "nbformat_minor": 2
}
